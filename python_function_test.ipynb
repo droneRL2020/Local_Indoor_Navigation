{
 "cells": [
  {
   "cell_type": "code",
   "execution_count": 1,
   "metadata": {},
   "outputs": [
    {
     "name": "stdout",
     "output_type": "stream",
     "text": [
      "2.67 3 2\n"
     ]
    }
   ],
   "source": [
    "# Understanding round function\n",
    "\n",
    "a = round(2.675, 2)\n",
    "b = round(2.675)\n",
    "c = round(2.3)\n",
    "\n",
    "print(a, b, c)"
   ]
  },
  {
   "cell_type": "code",
   "execution_count": 2,
   "metadata": {},
   "outputs": [],
   "source": [
    "# Understanding python 'with'\n",
    "\n",
    "with open('output.txt', 'w') as f:\n",
    "    f.write('Hi, There!')\n",
    "    \n",
    "# 1) make output.txt file\n",
    "# 2) write Hi, There! in the txt file\n",
    "# 3) automatically, close the text file"
   ]
  },
  {
   "cell_type": "code",
   "execution_count": 3,
   "metadata": {},
   "outputs": [
    {
     "name": "stdout",
     "output_type": "stream",
     "text": [
      "(4, 4) (10, 4, 4)\n"
     ]
    }
   ],
   "source": [
    "# Understanding cv2 resize and convert Grey to RGB\n",
    "\n",
    "import numpy as np\n",
    "import cv2\n",
    "\n",
    "inputs = np.zeros([3,3])\n",
    "resized_inputs = cv2.resize(inputs, (4, 4))\n",
    "arrays = [resized_inputs for _ in range(10)]\n",
    "batch_cvt_inputs = np.stack(arrays, axis = 0)\n",
    "\n",
    "print(resized_inputs.shape, batch_cvt_inputs.shape)"
   ]
  },
  {
   "cell_type": "code",
   "execution_count": null,
   "metadata": {},
   "outputs": [],
   "source": []
  }
 ],
 "metadata": {
  "kernelspec": {
   "display_name": "Python 3",
   "language": "python",
   "name": "python3"
  },
  "language_info": {
   "codemirror_mode": {
    "name": "ipython",
    "version": 3
   },
   "file_extension": ".py",
   "mimetype": "text/x-python",
   "name": "python",
   "nbconvert_exporter": "python",
   "pygments_lexer": "ipython3",
   "version": "3.5.5"
  }
 },
 "nbformat": 4,
 "nbformat_minor": 2
}
