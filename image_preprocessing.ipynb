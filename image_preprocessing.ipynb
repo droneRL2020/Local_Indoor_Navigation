{
 "cells": [
  {
   "cell_type": "code",
   "execution_count": null,
   "metadata": {},
   "outputs": [],
   "source": [
    "# Import to solve cv2 conflicts with ROS\n",
    "import sys\n",
    "sys.path.remove('/opt/ros/kinetic/lib/python2.7/dist-packages')\n",
    "\n",
    "import cv2\n",
    "import numpy as np\n",
    "from PIL import Image\n",
    "\n",
    "data_dir = '../Local_Indoor_Navigation/data/ADEChallengeData2016/annotations/training/'\n",
    "data_size = 20210"
   ]
  },
  {
   "cell_type": "code",
   "execution_count": null,
   "metadata": {},
   "outputs": [],
   "source": [
    "'''\n",
    "* Reduce Label to Binary \n",
    "1)Floor : black \n",
    "2)Others : white\n",
    "\n",
    "** Dilate Others for example chair, desk so that mobile robot determine policy\n",
    "in a more conservative way\n",
    "'''\n",
    "\n",
    "for i in range(1, data_size+1):\n",
    "    if i < 10:\n",
    "        label = Image.open(data_dir + 'ADE_train_0000000' +str(i) + '.png')\n",
    "    elif i < 100:\n",
    "        label = Image.open(data_dir + 'ADE_train_000000' + str(i) + '.png')        \n",
    "    elif i < 1000:\n",
    "        label = Image.open(data_dir + 'ADE_train_00000' + str(i) + '.png')\n",
    "    elif i < 10000:\n",
    "        label = Image.open(data_dir + 'ADE_train_0000' + str(i) + '.png')\n",
    "    else:\n",
    "        label = Image.open(data_dir + 'ADE_train_000' + str(i) + '.png')\n",
    "        \n",
    "    label = np.array(label)\n",
    "    white = 255\n",
    "    black = 0\n",
    "    \n",
    "    height, width = np.shape(label)\n",
    "    \n",
    "    for y in range(0, height):\n",
    "        for x in range(0, width):\n",
    "            if label[y][x] > 4 or label[y][x] < 4:\n",
    "                label[y][x] = white\n",
    "            else:\n",
    "                label[y][x] = black\n",
    "    \n",
    "    # dilate label more conservative\n",
    "    kernel = np.ones((5,5),np.uint8)\n",
    "    dilated_label = cv2.dilate(label, kernel, iterations=2)\n",
    "    final_label = Image.fromarray(np.uint8(dilated_label))\n",
    "    new_data_dir = '../data/ADEChallengeData2016/annotations/preprocessed/'\n",
    "    final_label.save(new_data_dir + 'img_' + str(i) + '.png')"
   ]
  },
  {
   "cell_type": "code",
   "execution_count": null,
   "metadata": {},
   "outputs": [],
   "source": []
  },
  {
   "cell_type": "code",
   "execution_count": null,
   "metadata": {},
   "outputs": [],
   "source": []
  },
  {
   "cell_type": "code",
   "execution_count": null,
   "metadata": {},
   "outputs": [],
   "source": []
  },
  {
   "cell_type": "code",
   "execution_count": null,
   "metadata": {},
   "outputs": [],
   "source": []
  },
  {
   "cell_type": "code",
   "execution_count": null,
   "metadata": {},
   "outputs": [],
   "source": []
  },
  {
   "cell_type": "code",
   "execution_count": null,
   "metadata": {},
   "outputs": [],
   "source": []
  },
  {
   "cell_type": "code",
   "execution_count": null,
   "metadata": {},
   "outputs": [],
   "source": []
  },
  {
   "cell_type": "code",
   "execution_count": null,
   "metadata": {},
   "outputs": [],
   "source": [
    "import numpy as np\n",
    "im_1 = np.array(image_1)"
   ]
  },
  {
   "cell_type": "code",
   "execution_count": null,
   "metadata": {},
   "outputs": [],
   "source": [
    "white = 255\n",
    "black = 0\n",
    "\n",
    "h,w = np.shape(im_1)\n",
    "\n",
    "for y in range(0, h):\n",
    "    for x in range(0, w):\n",
    "        if im_1[y][x] > 4 or im_1[y][x] < 4:\n",
    "            im_1[y][x] = white\n",
    "        else:\n",
    "            im_1[y][x] = black"
   ]
  },
  {
   "cell_type": "code",
   "execution_count": null,
   "metadata": {},
   "outputs": [],
   "source": [
    "im_show = Image.fromarray(np.uint8(im_1))"
   ]
  },
  {
   "cell_type": "code",
   "execution_count": null,
   "metadata": {},
   "outputs": [],
   "source": [
    "im_show"
   ]
  },
  {
   "cell_type": "code",
   "execution_count": null,
   "metadata": {},
   "outputs": [],
   "source": [
    "a = np.array(im_1)"
   ]
  },
  {
   "cell_type": "code",
   "execution_count": null,
   "metadata": {},
   "outputs": [],
   "source": [
    "kernel = np.ones((5,5),np.uint8)\n",
    "dilation = cv2.dilate(a, kernel, iterations=2)"
   ]
  },
  {
   "cell_type": "code",
   "execution_count": null,
   "metadata": {},
   "outputs": [],
   "source": [
    "im_show = Image.fromarray(np.uint8(dilation))"
   ]
  },
  {
   "cell_type": "code",
   "execution_count": null,
   "metadata": {},
   "outputs": [],
   "source": [
    "im_show"
   ]
  },
  {
   "cell_type": "code",
   "execution_count": null,
   "metadata": {},
   "outputs": [],
   "source": [
    "new_data_dir = '../data/ADEChallengeData2016/annotations/preprocessed/'\n",
    "\n",
    "im_show.save(new_data_dir + \"img1.png\")"
   ]
  }
 ],
 "metadata": {
  "kernelspec": {
   "display_name": "Python 3",
   "language": "python",
   "name": "python3"
  },
  "language_info": {
   "codemirror_mode": {
    "name": "ipython",
    "version": 3
   },
   "file_extension": ".py",
   "mimetype": "text/x-python",
   "name": "python",
   "nbconvert_exporter": "python",
   "pygments_lexer": "ipython3",
   "version": "3.6.5"
  }
 },
 "nbformat": 4,
 "nbformat_minor": 2
}
